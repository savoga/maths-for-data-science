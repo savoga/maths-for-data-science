{
 "cells": [
  {
   "cell_type": "code",
   "execution_count": null,
   "metadata": {},
   "outputs": [],
   "source": [
    "class KNNClassifier(BaseEstimator, ClassifierMixin):\n",
    "    \"\"\" Homemade kNN classifier class \"\"\"\n",
    "    def __init__(self, n_neighbors=1):\n",
    "        self.n_neighbors = n_neighbors\n",
    "    \n",
    "    def fit(self, X, y): # L'entraînement sert simplement à \"enregistrer\" les données d'entraînement,\n",
    "                         # déjà classifiées\n",
    "        self.X = X\n",
    "        self.Y = y\n",
    "        return self\n",
    "    \n",
    "    def predict(self, X):\n",
    "        n = len(self.X) # taille de l'échantillon dans X_train\n",
    "        m = len(X) # taille de l'échantillon dans X_test\n",
    "        dist_mat = []\n",
    "        for i in range(n): # On boucle sur tous les éléments de l'échantillon d'entraînement\n",
    "            dist_vect = []\n",
    "            for j in range(m): # On boucle sur tous les éléments de l'échantillon de test\n",
    "                dist_vect.append(euclidean_distance(self.X[i], X[j]))\n",
    "            dist_mat.append(dist_vect) # len(dist_vect) = m (nb de features; toutes les distances pour une observation)\n",
    "            \n",
    "        dist_mat = np.asarray(dist_mat) # dist_mat.shape = (n,m); T_test en colonne, X_train en ligne\n",
    "        \n",
    "        # dist_mat = metrics.pairwise.pairwise_distances(X, Y=self.X, metric='euclidean', n_jobs=1)\n",
    "            \n",
    "        idx_sort = np.argsort(dist_mat, kind='mergesort', axis=0)  # idx_sort.shape = (n,m); dist_mat triée selon les colonnes\n",
    "        # mergesort donne une gestion stable des nombre égaux: \n",
    "        # en cas d'égalité, l'ordre des indices dans l'output est le même que l'ordre dans l'input\n",
    "        \n",
    "        idx_sort_knn = idx_sort[:self.n_neighbors,:] # Redimensionnement avec le nombre de plus proches voisins\n",
    "        return getBestClassFromCount(idx_sort_knn, self.Y) "
   ]
  }
 ],
 "metadata": {
  "kernelspec": {
   "display_name": "Python 3",
   "language": "python",
   "name": "python3"
  },
  "language_info": {
   "codemirror_mode": {
    "name": "ipython",
    "version": 3
   },
   "file_extension": ".py",
   "mimetype": "text/x-python",
   "name": "python",
   "nbconvert_exporter": "python",
   "pygments_lexer": "ipython3",
   "version": "3.7.3"
  }
 },
 "nbformat": 4,
 "nbformat_minor": 2
}
